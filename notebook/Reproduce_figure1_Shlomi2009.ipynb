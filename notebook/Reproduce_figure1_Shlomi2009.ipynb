{
 "cells": [
  {
   "cell_type": "markdown",
   "metadata": {},
   "source": [
    "# This notebook reproduces the network and biomarker predictions in the example from (Schlomi,2009)\n",
    "Original publication: http://doi.org/10.1038/msb.2009.22\n",
    "\n",
    "Thierry D.G.A. Mondeel, Vivian Ogundipe & Hans V. Westerhoff <br>\n",
    "Unversity of Amsterdam  <br>\n",
    "October 2017\n",
    "\n",
    "\n",
    "The illustrative metabolic map used in Shlomi et al. Figure 1 is generated [here](./Build_illustrative_map_figure1_Shlomi2009.ipynb)."
   ]
  },
  {
   "cell_type": "code",
   "execution_count": 1,
   "metadata": {
    "collapsed": true
   },
   "outputs": [],
   "source": [
    "import cobra\n",
    "import pandas as pd\n",
    "from findBiomarkers import findBiomarkers\n",
    "\n",
    "M = cobra.io.read_sbml_model('../data/model_shlomi2009_figure1.xml')"
   ]
  },
  {
   "cell_type": "markdown",
   "metadata": {},
   "source": [
    "Gather all exchange reactions and their identifiers"
   ]
  },
  {
   "cell_type": "code",
   "execution_count": 2,
   "metadata": {
    "collapsed": true
   },
   "outputs": [],
   "source": [
    "exchanges = [ rxn for rxn in M.reactions if rxn.products == [] ]"
   ]
  },
  {
   "cell_type": "markdown",
   "metadata": {},
   "source": [
    "This table illustrates the results discussed in Figure 1 in Shlomi et al. "
   ]
  },
  {
   "cell_type": "code",
   "execution_count": 3,
   "metadata": {},
   "outputs": [
    {
     "name": "stdout",
     "output_type": "stream",
     "text": [
      "Interpreting mode as IEMrxn\n",
      "Modifications will be performed on the following reactions:\n",
      "   Description             Reaction\n",
      "R1  R1          M1 + M3 --> M2 + M4\n",
      "\n"
     ]
    },
    {
     "data": {
      "text/html": [
       "<div>\n",
       "<style>\n",
       "    .dataframe thead tr:only-child th {\n",
       "        text-align: right;\n",
       "    }\n",
       "\n",
       "    .dataframe thead th {\n",
       "        text-align: left;\n",
       "    }\n",
       "\n",
       "    .dataframe tbody tr th {\n",
       "        vertical-align: top;\n",
       "    }\n",
       "</style>\n",
       "<table border=\"1\" class=\"dataframe\">\n",
       "  <thead>\n",
       "    <tr style=\"text-align: right;\">\n",
       "      <th></th>\n",
       "      <th>Name</th>\n",
       "      <th>Prediction</th>\n",
       "      <th>WT</th>\n",
       "      <th>Mutant</th>\n",
       "      <th>Score</th>\n",
       "    </tr>\n",
       "    <tr>\n",
       "      <th>ID</th>\n",
       "      <th></th>\n",
       "      <th></th>\n",
       "      <th></th>\n",
       "      <th></th>\n",
       "      <th></th>\n",
       "    </tr>\n",
       "  </thead>\n",
       "  <tbody>\n",
       "    <tr>\n",
       "      <th>M1</th>\n",
       "      <td>None</td>\n",
       "      <td>H.C. Elevated</td>\n",
       "      <td>[-10.0, -1.0]</td>\n",
       "      <td>[0.0, 0.0]</td>\n",
       "      <td>1.0</td>\n",
       "    </tr>\n",
       "    <tr>\n",
       "      <th>M2</th>\n",
       "      <td>None</td>\n",
       "      <td>H.C. Reduced</td>\n",
       "      <td>[1.0, 10.0]</td>\n",
       "      <td>[0.0, 0.0]</td>\n",
       "      <td>1.0</td>\n",
       "    </tr>\n",
       "    <tr>\n",
       "      <th>M4</th>\n",
       "      <td>None</td>\n",
       "      <td>Reduced</td>\n",
       "      <td>[1.0, 20.0]</td>\n",
       "      <td>[0.0, 10.0]</td>\n",
       "      <td>1.0</td>\n",
       "    </tr>\n",
       "    <tr>\n",
       "      <th>M6</th>\n",
       "      <td>None</td>\n",
       "      <td>Elevated</td>\n",
       "      <td>[-10.0, 9.0]</td>\n",
       "      <td>[0.0, 10.0]</td>\n",
       "      <td>1.0</td>\n",
       "    </tr>\n",
       "    <tr>\n",
       "      <th>M5</th>\n",
       "      <td>None</td>\n",
       "      <td>Unchanged</td>\n",
       "      <td>[-10.0, 0.0]</td>\n",
       "      <td>[-10.0, 0.0]</td>\n",
       "      <td>0.0</td>\n",
       "    </tr>\n",
       "    <tr>\n",
       "      <th>M7</th>\n",
       "      <td>None</td>\n",
       "      <td>Unchanged</td>\n",
       "      <td>[-10.0, 0.0]</td>\n",
       "      <td>[-10.0, 0.0]</td>\n",
       "      <td>0.0</td>\n",
       "    </tr>\n",
       "  </tbody>\n",
       "</table>\n",
       "</div>"
      ],
      "text/plain": [
       "    Name     Prediction             WT        Mutant  Score\n",
       "ID                                                         \n",
       "M1  None  H.C. Elevated  [-10.0, -1.0]  [0.0, 0.0]    1.0  \n",
       "M2  None  H.C. Reduced   [1.0, 10.0]    [0.0, 0.0]    1.0  \n",
       "M4  None  Reduced        [1.0, 20.0]    [0.0, 10.0]   1.0  \n",
       "M6  None  Elevated       [-10.0, 9.0]   [0.0, 10.0]   1.0  \n",
       "M5  None  Unchanged      [-10.0, 0.0]   [-10.0, 0.0]  0.0  \n",
       "M7  None  Unchanged      [-10.0, 0.0]   [-10.0, 0.0]  0.0  "
      ]
     },
     "execution_count": 3,
     "metadata": {},
     "output_type": "execute_result"
    }
   ],
   "source": [
    "model = M.copy()\n",
    "findBiomarkers(model,fvaRxns=exchanges,mods=[model.reactions.R1.id],threshold=0)"
   ]
  },
  {
   "cell_type": "code",
   "execution_count": null,
   "metadata": {
    "collapsed": true
   },
   "outputs": [],
   "source": []
  }
 ],
 "metadata": {
  "kernelspec": {
   "display_name": "Python 3",
   "language": "python",
   "name": "python3"
  },
  "language_info": {
   "codemirror_mode": {
    "name": "ipython",
    "version": 3
   },
   "file_extension": ".py",
   "mimetype": "text/x-python",
   "name": "python",
   "nbconvert_exporter": "python",
   "pygments_lexer": "ipython3",
   "version": "3.6.1"
  }
 },
 "nbformat": 4,
 "nbformat_minor": 1
}
