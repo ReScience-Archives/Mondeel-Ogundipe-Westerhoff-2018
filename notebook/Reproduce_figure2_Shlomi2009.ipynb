{
 "cells": [
  {
   "cell_type": "markdown",
   "metadata": {},
   "source": [
    "# Reproducing Shlomi et al. 2009 Figure 2\n",
    "Original publication: http://doi.org/10.1038/msb.2009.22\n",
    "\n",
    "Thierry D.G.A. Mondeel, Vivian Ogundipe & Hans V. Westerhoff <br>\n",
    "Unversity of Amsterdam  <br>\n",
    "October 2017"
   ]
  },
  {
   "cell_type": "markdown",
   "metadata": {},
   "source": [
    "## Import the model and set the list of potential biomarkers\n",
    "Shlomi et al. used Recon 1. The Recon 1 version used here has been downloaded from the BiGG database: http://bigg.ucsd.edu/models/RECON1. Figure 2 only checks for the proteinogenic amino acids as possible biomarkers."
   ]
  },
  {
   "cell_type": "code",
   "execution_count": 1,
   "metadata": {
    "collapsed": true
   },
   "outputs": [],
   "source": [
    "import cobra\n",
    "from findBiomarkers import findBiomarkers\n",
    "\n",
    "import pandas as pd\n",
    "pd.set_option('display.max_colwidth', -1)\n",
    "\n",
    "from IPython.display import clear_output\n",
    "import json\n",
    "\n",
    "# import Recon 1\n",
    "M = cobra.io.load_json_model(\"../data/RECON1.json\")\n",
    "\n",
    "# All exchange reactions for amino acids\n",
    "essentialAA = ['EX_his__L_e','EX_ile__L_e','EX_leu__L_e','EX_lys__L_e','EX_met__L_e','EX_phe__L_e','EX_thr__L_e','EX_trp__L_e','EX_val__L_e']\n",
    "nonEssentialAA = ['EX_cys__L_e','EX_glu__L_e','EX_tyr__L_e','EX_ala__L_e','EX_asp__L_e','EX_gly_e','EX_arg__L_e','EX_gln__L_e','EX_pro__L_e','EX_ser__L_e','EX_asn__L_e']\n",
    "rxnsOfInterest = [essentialAA,nonEssentialAA]\n",
    "rxnsOfInterest = [ item for sublist in rxnsOfInterest for item in sublist ]"
   ]
  },
  {
   "cell_type": "markdown",
   "metadata": {},
   "source": [
    "### Set the medium of Recon 1\n",
    "The publication does not explicitly discuss the medium. We found that inward fluxes bounded to 1 and outward fluxes bounded to 1000 allow reproducibility of the results"
   ]
  },
  {
   "cell_type": "code",
   "execution_count": 2,
   "metadata": {
    "collapsed": true
   },
   "outputs": [],
   "source": [
    "exchanges = [ rxn for rxn in M.reactions if rxn.products == [] or rxn.reactants == []]\n",
    "\n",
    "# all inward to 1\n",
    "# all outward to 1000\n",
    "for rxn in exchanges:\n",
    "    rxn.lower_bound = -1\n",
    "for rxn in exchanges:\n",
    "        rxn.upper_bound = 1000\n",
    "        \n",
    "M.medium;"
   ]
  },
  {
   "cell_type": "markdown",
   "metadata": {},
   "source": [
    "## Read in the IEM data from Shlomi et al. supplemental information\n",
    "Shlomi et al. provided a supplementary Excel table linking IEMs to genes and reactions in Recon 1. \n",
    "\n",
    "For biological completeness, we chose to read the genes associated to the IEMs for the Excel table provided by Shlomi et al. and subsequently link these to reactions through Recon 1. \n",
    "\n",
    "We filter out all the information related to the 17 amino acid disorders considered in their Figure 2."
   ]
  },
  {
   "cell_type": "code",
   "execution_count": 3,
   "metadata": {
    "collapsed": true,
    "scrolled": true
   },
   "outputs": [],
   "source": [
    "IEMinfo = pd.read_excel('../data/IEM_compendium.xlsx', sheetname='mappedIEMs supple table', header=0)\n",
    "\n",
    "# note the double entry for Hypermethioninemia\n",
    "figure2IEMs = ['S-Adenosylhomocysteine hydrolase', 'Alkaptonuria','Arginase deficiency','Cystinuria',\n",
    "               'Lysinuric protein intolerance','Glutamate formiminotransferase deficiency',\n",
    "              'Histidinemia','Homocystinuria','Hyperprolinemia type I','maple syrup urine disease',\n",
    "              'Methionine adenosyltransferase deficiency','methylmalonic acidemia (MMA)','phenylketonuria',\n",
    "              'Tetrahydrobiopterin deficiency','Tyrosinemia type 1','Tyrosinemia type III',\n",
    "              'Glycine encephalopathy/ nonketotic hyperglycinemia / NKH']\n",
    "\n",
    "# Filter out the information related to Figure 2\n",
    "IEMinfo = IEMinfo[IEMinfo['disease (Mapped IEMs)'].isin(figure2IEMs)]\n",
    "\n",
    "# make a dictionary: IEM -> Entrez gene ID and another one for: IEM -> reactions in Recon 1 \n",
    "IEMdict = dict(zip(IEMinfo['disease (Mapped IEMs)'],IEMinfo['EntrezGeneID'] )) \n",
    "IEMdict_rxns = dict(zip(IEMinfo['disease (Mapped IEMs)'],IEMinfo['corresponding reaction in Recon1'] ))   \n",
    "        \n",
    "# update IEMdict to map to Recon 1 gene IDs not to Entrez\n",
    "for iem in IEMdict:\n",
    "    genelist = IEMdict[iem]\n",
    "    \n",
    "    if type(genelist) is not list: # in case there is one gene linked\n",
    "        genelist = [genelist]\n",
    "\n",
    "    # Recon 1 used Entrez IDs but appends things like .1 Look for the substrings\n",
    "    IEMdict[iem] = list(set([ x for x in [gene.id for gene in M.genes] for y in genelist if x.find(str(y)+'_') != -1 ]))\n",
    "    \n",
    "    # IEMdict_rxns is a string with potentially multiple reactions. Turn into a list\n",
    "    IEMdict_rxns[iem] = IEMdict_rxns[iem].split(',') \n",
    "    IEMdict_rxns[iem] = [str(x).strip() for x in IEMdict_rxns[iem]] # clean strings\n"
   ]
  },
  {
   "cell_type": "markdown",
   "metadata": {},
   "source": [
    "## About the 4 IEMs for which we had reproducibility problems: \n",
    "\n",
    "We had issues with: S-Adenosylhomocysteine hydrolase, Methionine adenosyltransferase deficiency, Tetrahydrobiopterin deficiency (Phenylketonuria II) and Histidinemia. \n",
    "\n",
    "The first two have no entries in the Excel sheet. However, on the left of Figure 2 we can extract the enzyme directly, which seem to be AHCY (Entrez: 191) and MAT1a (Entrez: 4143) respectively. See:\n",
    "- AHCY: https://www.ncbi.nlm.nih.gov/gene/?term=191\n",
    "- MAT1a: https://www.ncbi.nlm.nih.gov/gene/?term=4143\n",
    "\n",
    "For PKU II we originally found tyrosine whereas Shlomi et al. do not. However in the excel file multiple genes are linked to this IEM whereas Figure 2 on the left refers only to QDPR (5860). Limiting our simulation to QDPR returned the same results as in the publication. See: https://www.omim.org/entry/261630?search=261630&highlight=261630\n",
    "\n",
    "The Excel file lists the reaction HISTD for Histidinemia. However, this should be HISTDr in Recon 1. The gene with ID 3034_AT1 refers to that reaction.\n",
    "\n",
    "We update the IEMdict_rxns because this dictionary is what we use in the calculation below."
   ]
  },
  {
   "cell_type": "markdown",
   "metadata": {},
   "source": [
    "IEMdict_rxns entries before our changes"
   ]
  },
  {
   "cell_type": "code",
   "execution_count": 4,
   "metadata": {},
   "outputs": [
    {
     "name": "stdout",
     "output_type": "stream",
     "text": [
      "['GTPCI', 'GTPCIn', 'THBPT4ACAMDASE', 'PTHPS', 'PTHPSn', 'DHPR'] ['HISD']\n"
     ]
    }
   ],
   "source": [
    "print(#IEMdict_rxns['S-Adenosylhomocysteine hydrolase'], # THIS ONE DOESN'T EXIST IN THE EXCEL FILE\n",
    "    #IEMdict_rxns['Methionine adenosyltransferase deficiency'], # THIS ONE DOESN'T EXIST IN THE EXCEL FILE\n",
    "    IEMdict_rxns['Tetrahydrobiopterin deficiency'],\n",
    "    IEMdict_rxns['Histidinemia'])"
   ]
  },
  {
   "cell_type": "markdown",
   "metadata": {},
   "source": [
    "Below we show that without our changes the PKU II (tetrahydrobiopterin deficiency) does not agree with Shlomi et al."
   ]
  },
  {
   "cell_type": "code",
   "execution_count": 5,
   "metadata": {},
   "outputs": [
    {
     "name": "stdout",
     "output_type": "stream",
     "text": [
      "Interpreting mode as IEMrxn\n",
      "Modifications will be performed on the following reactions:\n",
      "                                                     Description                                    Reaction\n",
      "GTPCI           GTP cyclohydrolase I                              gtp_c + h2o_c --> ahdt_c + for_c + h_c    \n",
      "GTPCIn          GTP cyclohydrolase I, nuclear                     gtp_n + h2o_n --> ahdt_n + for_n + h_n    \n",
      "THBPT4ACAMDASE  Tetrahydrobiopterin-4a-carbinolamine dehydratase  thbpt4acam_c --> dhbpt_c + h2o_c          \n",
      "PTHPS           6-pyruvoyltetrahydropterin synthase               ahdt_c --> 6pthp_c + pppi_c               \n",
      "PTHPSn          6-pyruvoyltetrahydropterin synthase, nuclear      ahdt_n --> 6pthp_n + pppi_n               \n",
      "DHPR            6,7-dihydropteridine reductase                    dhbpt_c + h_c + nadh_c --> nad_c + thbpt_c\n",
      "\n"
     ]
    },
    {
     "data": {
      "application/vnd.jupyter.widget-view+json": {
       "model_id": "1381737e7407488a8c08352b21a14cfa"
      }
     },
     "metadata": {},
     "output_type": "display_data"
    },
    {
     "name": "stdout",
     "output_type": "stream",
     "text": [
      "forward FVA could not be solved. Continuing without the forward interval.\n",
      "backward FVA could not be solved. Continuing without the backward interval.\n",
      "No healthy interval could be calculated\n",
      "Empty wild-type and mutant FVA intervals. Skipping to next reaction.\n",
      "forward FVA could not be solved. Continuing without the forward interval.\n",
      "backward FVA could not be solved. Continuing without the backward interval.\n",
      "No healthy interval could be calculated\n",
      "Empty wild-type and mutant FVA intervals. Skipping to next reaction.\n",
      "forward FVA could not be solved. Continuing without the forward interval.\n",
      "backward FVA could not be solved. Continuing without the backward interval.\n",
      "No healthy interval could be calculated\n",
      "Empty wild-type and mutant FVA intervals. Skipping to next reaction.\n",
      "forward FVA could not be solved. Continuing without the forward interval.\n",
      "backward FVA could not be solved. Continuing without the backward interval.\n",
      "No healthy interval could be calculated\n",
      "Empty wild-type and mutant FVA intervals. Skipping to next reaction.\n",
      "\n",
      "7 low confidence biomarkers with scores below the threshold were found\n"
     ]
    },
    {
     "data": {
      "text/html": [
       "<div>\n",
       "<style>\n",
       "    .dataframe thead tr:only-child th {\n",
       "        text-align: right;\n",
       "    }\n",
       "\n",
       "    .dataframe thead th {\n",
       "        text-align: left;\n",
       "    }\n",
       "\n",
       "    .dataframe tbody tr th {\n",
       "        vertical-align: top;\n",
       "    }\n",
       "</style>\n",
       "<table border=\"1\" class=\"dataframe\">\n",
       "  <thead>\n",
       "    <tr style=\"text-align: right;\">\n",
       "      <th></th>\n",
       "      <th>Name</th>\n",
       "      <th>Prediction</th>\n",
       "      <th>WT</th>\n",
       "      <th>Mutant</th>\n",
       "      <th>Score</th>\n",
       "    </tr>\n",
       "    <tr>\n",
       "      <th>ID</th>\n",
       "      <th></th>\n",
       "      <th></th>\n",
       "      <th></th>\n",
       "      <th></th>\n",
       "      <th></th>\n",
       "    </tr>\n",
       "  </thead>\n",
       "  <tbody>\n",
       "    <tr>\n",
       "      <th>tyr__L_e</th>\n",
       "      <td>L-Tyrosine</td>\n",
       "      <td>Reduced</td>\n",
       "      <td>[-1.0, 1.0]</td>\n",
       "      <td>[-1.0, 0.0]</td>\n",
       "      <td>1.0</td>\n",
       "    </tr>\n",
       "  </tbody>\n",
       "</table>\n",
       "</div>"
      ],
      "text/plain": [
       "                Name Prediction           WT       Mutant  Score\n",
       "ID                                                              \n",
       "tyr__L_e  L-Tyrosine  Reduced    [-1.0, 1.0]  [-1.0, 0.0]  1.0  "
      ]
     },
     "execution_count": 5,
     "metadata": {},
     "output_type": "execute_result"
    }
   ],
   "source": [
    "findBiomarkers(M,rxnsOfInterest,IEMdict_rxns['Tetrahydrobiopterin deficiency'])"
   ]
  },
  {
   "cell_type": "markdown",
   "metadata": {},
   "source": [
    "Here we actually manualy update the reactions linked to the 4 problematic IEMs."
   ]
  },
  {
   "cell_type": "code",
   "execution_count": 6,
   "metadata": {
    "collapsed": true
   },
   "outputs": [],
   "source": [
    "IEMdict_rxns['S-Adenosylhomocysteine hydrolase'] = [str(r.id) for r in M.genes.get_by_id('191_AT1').reactions]\n",
    "IEMdict_rxns['Methionine adenosyltransferase deficiency'] = [str(r.id) for r in M.genes.get_by_id('4143_AT1').reactions]\n",
    "IEMdict_rxns['Tetrahydrobiopterin deficiency'] = [str(r.id) for r in M.genes.get_by_id('5860_AT1').reactions]\n",
    "IEMdict_rxns['Histidinemia'] = [str(r.id) for r in M.genes.get_by_id('3034_AT1').reactions]"
   ]
  },
  {
   "cell_type": "markdown",
   "metadata": {},
   "source": [
    "IEMdict_rxns entries AFTER our changes"
   ]
  },
  {
   "cell_type": "code",
   "execution_count": 7,
   "metadata": {},
   "outputs": [
    {
     "name": "stdout",
     "output_type": "stream",
     "text": [
      "['SEAHCYSHYD', 'AHCi'] ['SELMETAT', 'METAT'] ['DHPR'] ['HISDr']\n"
     ]
    }
   ],
   "source": [
    "print(IEMdict_rxns['S-Adenosylhomocysteine hydrolase'], # THIS ONE DOESN'T EXIST IN THE EXCEL FILE\n",
    "    IEMdict_rxns['Methionine adenosyltransferase deficiency'], # THIS ONE DOESN'T EXIST IN THE EXCEL FILE\n",
    "     IEMdict_rxns['Tetrahydrobiopterin deficiency'],\n",
    "      IEMdict_rxns['Histidinemia'])"
   ]
  },
  {
   "cell_type": "markdown",
   "metadata": {},
   "source": [
    "Show that PKU II is now in agreement with the predictions in Figure 2."
   ]
  },
  {
   "cell_type": "code",
   "execution_count": null,
   "metadata": {},
   "outputs": [
    {
     "name": "stdout",
     "output_type": "stream",
     "text": [
      "Interpreting mode as IEMrxn\n",
      "Modifications will be performed on the following reactions:\n",
      "                         Description                                    Reaction\n",
      "DHPR  6,7-dihydropteridine reductase  dhbpt_c + h_c + nadh_c --> nad_c + thbpt_c\n",
      "\n",
      "7 low confidence biomarkers with scores below the threshold were found\n"
     ]
    },
    {
     "data": {
      "text/html": [
       "<div>\n",
       "<style>\n",
       "    .dataframe thead tr:only-child th {\n",
       "        text-align: right;\n",
       "    }\n",
       "\n",
       "    .dataframe thead th {\n",
       "        text-align: left;\n",
       "    }\n",
       "\n",
       "    .dataframe tbody tr th {\n",
       "        vertical-align: top;\n",
       "    }\n",
       "</style>\n",
       "<table border=\"1\" class=\"dataframe\">\n",
       "  <thead>\n",
       "    <tr style=\"text-align: right;\">\n",
       "      <th></th>\n",
       "      <th>Name</th>\n",
       "      <th>Prediction</th>\n",
       "      <th>WT</th>\n",
       "      <th>Mutant</th>\n",
       "      <th>Score</th>\n",
       "    </tr>\n",
       "    <tr>\n",
       "      <th>ID</th>\n",
       "      <th></th>\n",
       "      <th></th>\n",
       "      <th></th>\n",
       "      <th></th>\n",
       "      <th></th>\n",
       "    </tr>\n",
       "  </thead>\n",
       "  <tbody>\n",
       "  </tbody>\n",
       "</table>\n",
       "</div>"
      ],
      "text/plain": [
       "Empty DataFrame\n",
       "Columns: [Name, Prediction, WT, Mutant, Score]\n",
       "Index: []"
      ]
     },
     "execution_count": 8,
     "metadata": {},
     "output_type": "execute_result"
    }
   ],
   "source": [
    "findBiomarkers(M,rxnsOfInterest,IEMdict_rxns['Tetrahydrobiopterin deficiency'])"
   ]
  },
  {
   "cell_type": "markdown",
   "metadata": {},
   "source": [
    "## Calculate all biomarkers for all figure 2 IEMs"
   ]
  },
  {
   "cell_type": "markdown",
   "metadata": {},
   "source": [
    "The cell below should reproduce the exact method as Shlomi describes it for the list of IEMs presented in Figure 2 in the original publication. We get the genes from their Excel sheet, find them in RECON1, find their associated reactions and give that to findBiomarkers(). The default settings of the function are set to reproduce Shlomi's method."
   ]
  },
  {
   "cell_type": "code",
   "execution_count": null,
   "metadata": {},
   "outputs": [
    {
     "name": "stdout",
     "output_type": "stream",
     "text": [
      "Tyrosinemia type III\n",
      "Progress: 88.23529411764706%\n",
      "['PPOR', '34HPPOR']\n",
      "Interpreting mode as IEMrxn\n",
      "Modifications will be performed on the following reactions:\n",
      "                                                Description                                Reaction\n",
      "PPOR     Phenylpyruvate:oxygen oxidoreductase (hydroxylatin  o2_c + phpyr_c --> 2hyoxplac_c + co2_c\n",
      "34HPPOR  4 Hydroxyphenylpyruvateoxygen oxidoreductase        34hpp_c + o2_c --> co2_c + hgentis_c  \n",
      "\n"
     ]
    },
    {
     "data": {
      "application/vnd.jupyter.widget-view+json": {
       "model_id": "7fcbb0d0d3304dbcab996c6a7c21fc37"
      }
     },
     "metadata": {},
     "output_type": "display_data"
    }
   ],
   "source": [
    "model = M.copy()\n",
    "\n",
    "bmPredictions = {}\n",
    "count = 0\n",
    "\n",
    "IEMlistToCalc = figure2IEMs\n",
    "\n",
    "# init the dataframe\n",
    "summary_df = pd.DataFrame(columns=['IEM','Affected reactions','Elevated','Reduced','Elevated sub-threshold','Reduced sub-threshold'])\n",
    "\n",
    "for iem in IEMlistToCalc:\n",
    "    clear_output()\n",
    "    print(iem)\n",
    "    print('Progress: {}%'.format((count*1.0)/len(IEMlistToCalc)*100))\n",
    "    \n",
    "    # predict biomarkers    \n",
    "    print(IEMdict_rxns[iem])\n",
    "    predictionTable = findBiomarkers(model,rxnsOfInterest,IEMdict_rxns[iem],threshold=0)\n",
    "    \n",
    "    # save pandas table in dictionary\n",
    "    bmPredictions[iem] = predictionTable.to_string()\n",
    "    \n",
    "    # save new row in summary_df\n",
    "    sign_up = [predictionTable.Name.values[i] for i in range(len(predictionTable)) if predictionTable.iloc[i]['Score'] >= 0.1 \n",
    "               and predictionTable.iloc[i]['Prediction'] in ['Elevated','H.C. Elevated']]\n",
    "    insign_up = [predictionTable.Name.values[i] for i in range(len(predictionTable)) if predictionTable.iloc[i]['Score'] < 0.1 \n",
    "                and predictionTable.iloc[i]['Prediction'] in ['Elevated','H.C. Elevated']]\n",
    "    sign_down = [predictionTable.Name.values[i] for i in range(len(predictionTable)) if predictionTable.iloc[i]['Score'] >= 0.1 \n",
    "               and predictionTable.iloc[i]['Prediction'] in ['Reduced','H.C. Reduced']]\n",
    "    insign_down = [predictionTable.Name.values[i] for i in range(len(predictionTable)) if predictionTable.iloc[i]['Score'] < 0.1 \n",
    "                and predictionTable.iloc[i]['Prediction'] in ['Reduced','H.C. Reduced']]\n",
    "    d = {'IEM':iem,'Elevated':sign_up,'Reduced':sign_down,'Elevated sub-threshold':insign_up,'Reduced sub-threshold':insign_down,\n",
    "        'Affected reactions':IEMdict_rxns[iem]}\n",
    "         #'Affected reactions':list(set([r.id for g in IEMdict[iem] for r in model.genes.get_by_id(g).reactions ]))}\n",
    "    summary_df = summary_df.append(d,ignore_index=True)\n",
    "    \n",
    "    count = count + 1\n",
    "    \n",
    "# save result as csv and json\n",
    "summary_df.to_csv('../data/predicted_biomarkers_figure2_default.csv')\n",
    "    \n",
    "with open('../data/predicted_biomarkers_figure2_default.json','w') as f: \n",
    "    f.write(json.dumps(bmPredictions, indent=4))\n",
    "  \n",
    "clear_output()\n",
    "print(\"Completed calculation.\")"
   ]
  },
  {
   "cell_type": "markdown",
   "metadata": {},
   "source": [
    "### Export predictions to Excel"
   ]
  },
  {
   "cell_type": "code",
   "execution_count": null,
   "metadata": {
    "collapsed": true
   },
   "outputs": [],
   "source": [
    "summary_df = pd.DataFrame.from_csv('../data/predicted_biomarkers_figure2_default.csv')\n",
    "\n",
    "summary_df.set_index(['IEM'],inplace=True)\n",
    "\n",
    "# clean the dataframe content\n",
    "import ast\n",
    "for i in range(len(summary_df)):\n",
    "    for col in ['Affected reactions','Elevated','Reduced','Elevated sub-threshold','Reduced sub-threshold']:\n",
    "        l = ast.literal_eval(summary_df.iloc[i][col])\n",
    "        if type(l) == list and len(l) == 0:\n",
    "            summary_df.iloc[i][col] = ''\n",
    "        else:\n",
    "            if len(l) > 1:\n",
    "                summary_df.iloc[i][col] = ', '.join([str(x) for x in l])\n",
    "            else:\n",
    "                summary_df.iloc[i][col] = str(l[0]) \n",
    "                \n",
    "\n",
    "# EXCEL PART\n",
    "writer = pd.ExcelWriter('../data/Shlomi_fig2_results_summarized.xlsx', engine='xlsxwriter')\n",
    "workbook = writer.book\n",
    "\n",
    "format_null = workbook.add_format({'text_wrap': True,'align':'left','font_size':10})\n",
    "\n",
    "summary_df.to_excel(writer,sheet_name='Shlomi_Fig2_reproduction', index=False)\n",
    "worksheet = writer.sheets['Shlomi_Fig2_reproduction']\n",
    "\n",
    "# freeze first row and first column\n",
    "worksheet.freeze_panes(1, 1)\n",
    "\n",
    "# Formatting\n",
    "for row in range(len(summary_df.index)):\n",
    "    worksheet.set_row(row + 1, None, format_null)\n",
    "        \n",
    "# set column widths\n",
    "worksheet.set_column('A:B', 100) \n",
    "worksheet.set_column('C:F', 60) \n",
    "\n",
    "writer.save()\n",
    "\n",
    "summary_df.to_excel('../data/Shlomi_fig2_results_summarized.xlsx')                \n",
    "                \n",
    "\n",
    "### Print the table we use in the manuscript\n",
    "# in the publication we usually do not show the below threshold hits so remove these columns                \n",
    "summary_df[['Affected reactions','Elevated','Reduced']]"
   ]
  },
  {
   "cell_type": "markdown",
   "metadata": {},
   "source": [
    "## Show detailed results of computation"
   ]
  },
  {
   "cell_type": "code",
   "execution_count": null,
   "metadata": {
    "collapsed": true,
    "scrolled": true
   },
   "outputs": [],
   "source": [
    "import json\n",
    "from pprint import pprint\n",
    "\n",
    "with open('../data/predicted_biomarkers_figure2_default.json') as data_file:    \n",
    "    data = json.load(data_file)\n",
    "\n",
    "for iem in data.keys():\n",
    "    print(iem)\n",
    "    print(data[iem])\n",
    "    print()"
   ]
  },
  {
   "cell_type": "code",
   "execution_count": null,
   "metadata": {
    "collapsed": true
   },
   "outputs": [],
   "source": []
  }
 ],
 "metadata": {
  "kernelspec": {
   "display_name": "Python 3",
   "language": "python",
   "name": "python3"
  },
  "language_info": {
   "codemirror_mode": {
    "name": "ipython",
    "version": 3
   },
   "file_extension": ".py",
   "mimetype": "text/x-python",
   "name": "python",
   "nbconvert_exporter": "python",
   "pygments_lexer": "ipython3",
   "version": "3.6.1"
  }
 },
 "nbformat": 4,
 "nbformat_minor": 1
}
